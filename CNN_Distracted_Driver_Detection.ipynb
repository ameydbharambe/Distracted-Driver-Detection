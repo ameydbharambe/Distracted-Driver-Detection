{
  "nbformat": 4,
  "nbformat_minor": 0,
  "metadata": {
    "colab": {
      "provenance": [],
      "collapsed_sections": [
        "uofnvxpz-qdI"
      ]
    },
    "kernelspec": {
      "name": "python3",
      "display_name": "Python 3"
    },
    "accelerator": "GPU"
  },
  "cells": [
    {
      "cell_type": "markdown",
      "metadata": {
        "id": "TiM6gYg0nhkY"
      },
      "source": [
        "<font color=\"#de3023\"><h1><b>REMINDER MAKE A COPY OF THIS NOTEBOOK, DO NOT EDIT</b></h1></font>"
      ]
    },
    {
      "cell_type": "markdown",
      "metadata": {
        "id": "-u8iBb0fCIgO"
      },
      "source": [
        "\n",
        "\n",
        "\n",
        "<font color=\"#d3d3d3\"><h1><b>Reminder for all students and instructors to use the same version of the project notebooks (beginner or advanced)</b></h1></font>"
      ]
    },
    {
      "cell_type": "markdown",
      "metadata": {
        "id": "T4sLmjIuDpmY"
      },
      "source": [
        "![](http://static1.squarespace.com/static/56ccc8724c2f8548059fbcfe/58f6daea15d5dbcc64ef63aa/5cae2d770d92977242838baa/1557942174418/SW-DistractedDriving-Clean-1.jpg?format=1500w)"
      ]
    },
    {
      "cell_type": "markdown",
      "metadata": {
        "id": "T13XTOeamF7y"
      },
      "source": [
        "In this notebook we will be:\n",
        "1.   Understanding and Building Neural Networks\n",
        "2.   Applying Neural Networks to Detecting Distracted Drivers\n",
        "3.   Exploring Convolutional Neural Networks\n",
        "4.   Implementing Transfer Learning\n",
        "\n"
      ]
    },
    {
      "cell_type": "code",
      "metadata": {
        "id": "aSeClkWgIORK",
        "colab": {
          "base_uri": "https://localhost:8080/"
        },
        "outputId": "03926d75-73c1-4b6a-a261-bbd630957ef9"
      },
      "source": [
        "#@title Run this to download data and prepare our environment! { display-mode: \"form\" }\n",
        "\n",
        "import numpy as np\n",
        "import pandas as pd\n",
        "\n",
        "import seaborn as sns\n",
        "import matplotlib.pyplot as plt\n",
        "\n",
        "from sklearn.metrics import accuracy_score\n",
        "\n",
        "import tensorflow.keras\n",
        "from tensorflow.keras.models import Sequential\n",
        "from tensorflow.keras.layers import Activation, MaxPooling2D, Dropout, Flatten, Reshape, Dense, Conv2D, GlobalAveragePooling2D\n",
        "import tensorflow.keras.optimizers as optimizers\n",
        "from tensorflow.keras.callbacks import ModelCheckpoint\n",
        "from keras.preprocessing.image import ImageDataGenerator\n",
        "from tensorflow.keras.applications import VGG16, VGG19, ResNet50, DenseNet121\n",
        "\n",
        "\n",
        "def label_to_numpy(labels):\n",
        "  final_labels = np.zeros((len(labels), 4))\n",
        "  for i in range(len(labels)):\n",
        "    label = labels[i]\n",
        "    if label == 'Attentive':\n",
        "      final_labels[i,:] = np.array([1, 0, 0, 0])\n",
        "    if label == 'DrinkingCoffee':\n",
        "      final_labels[i,:] = np.array([0, 1, 0, 0])\n",
        "    if label == 'UsingMirror':\n",
        "      final_labels[i,:] = np.array([0, 0, 1, 0])\n",
        "    if label == 'UsingRadio':\n",
        "      final_labels[i,:] = np.array([0, 0, 0, 1])\n",
        "  return final_labels\n",
        "\n",
        "class pkg:\n",
        "  #### DOWNLOADING AND LOADING DATA\n",
        "  def get_metadata(metadata_path, which_splits = ['train', 'test']):\n",
        "    '''returns metadata dataframe which contains columns of:\n",
        "       * index: index of data into numpy data\n",
        "       * class: class of image\n",
        "       * split: which dataset split is this a part of?\n",
        "    '''\n",
        "    metadata = pd.read_csv(metadata_path)\n",
        "    keep_idx = metadata['split'].isin(which_splits)\n",
        "    metadata = metadata[keep_idx]\n",
        "\n",
        "    # Get dataframes for each class.\n",
        "    df_coffee_train = metadata[(metadata['class'] == 'DrinkingCoffee') & \\\n",
        "                         (metadata['split'] == 'train')]\n",
        "    df_coffee_test = metadata[(metadata['class'] == 'DrinkingCoffee') & \\\n",
        "                         (metadata['split'] == 'test')]\n",
        "    df_mirror_train = metadata[(metadata['class'] == 'UsingMirror') & \\\n",
        "                         (metadata['split'] == 'train')]\n",
        "    df_mirror_test = metadata[(metadata['class'] == 'UsingMirror') & \\\n",
        "                         (metadata['split'] == 'test')]\n",
        "    df_attentive_train = metadata[(metadata['class'] == 'Attentive') & \\\n",
        "                         (metadata['split'] == 'train')]\n",
        "    df_attentive_test = metadata[(metadata['class'] == 'Attentive') & \\\n",
        "                         (metadata['split'] == 'test')]\n",
        "    df_radio_train = metadata[(metadata['class'] == 'UsingRadio') & \\\n",
        "                         (metadata['split'] == 'train')]\n",
        "    df_radio_test = metadata[(metadata['class'] == 'UsingRadio') & \\\n",
        "                         (metadata['split'] == 'test')]\n",
        "\n",
        "    # Get number of items in class with lowest number of images.\n",
        "    num_samples_train = min(df_coffee_train.shape[0], \\\n",
        "                            df_mirror_train.shape[0], \\\n",
        "                            df_attentive_train.shape[0], \\\n",
        "                            df_radio_train.shape[0])\n",
        "    num_samples_test = min(df_coffee_test.shape[0], \\\n",
        "                            df_mirror_test.shape[0], \\\n",
        "                            df_attentive_test.shape[0], \\\n",
        "                            df_radio_test.shape[0])\n",
        "\n",
        "    # Resample each of the classes and concatenate the images.\n",
        "    metadata_train = pd.concat([df_coffee_train.sample(num_samples_train), \\\n",
        "                          df_mirror_train.sample(num_samples_train), \\\n",
        "                          df_attentive_train.sample(num_samples_train), \\\n",
        "                          df_radio_train.sample(num_samples_train) ])\n",
        "    metadata_test = pd.concat([df_coffee_test.sample(num_samples_test), \\\n",
        "                          df_mirror_test.sample(num_samples_test), \\\n",
        "                          df_attentive_test.sample(num_samples_test), \\\n",
        "                          df_radio_test.sample(num_samples_test) ])\n",
        "\n",
        "    metadata = pd.concat( [metadata_train, metadata_test] )\n",
        "\n",
        "    return metadata\n",
        "\n",
        "  def get_data_split(split_name, flatten, all_data, metadata, image_shape):\n",
        "    '''\n",
        "    returns images (data), labels from folder of format [image_folder]/[split_name]/[class_name]/\n",
        "    flattens if flatten option is True\n",
        "    '''\n",
        "    # Get dataframes for each class.\n",
        "    df_coffee_train = metadata[(metadata['class'] == 'DrinkingCoffee') & \\\n",
        "                         (metadata['split'] == 'train')]\n",
        "    df_coffee_test = metadata[(metadata['class'] == 'DrinkingCoffee') & \\\n",
        "                         (metadata['split'] == 'test')]\n",
        "    df_mirror_train = metadata[(metadata['class'] == 'UsingMirror') & \\\n",
        "                         (metadata['split'] == 'train')]\n",
        "    df_mirror_test = metadata[(metadata['class'] == 'UsingMirror') & \\\n",
        "                         (metadata['split'] == 'test')]\n",
        "    df_attentive_train = metadata[(metadata['class'] == 'Attentive') & \\\n",
        "                         (metadata['split'] == 'train')]\n",
        "    df_attentive_test = metadata[(metadata['class'] == 'Attentive') & \\\n",
        "                         (metadata['split'] == 'test')]\n",
        "    df_radio_train = metadata[(metadata['class'] == 'UsingRadio') & \\\n",
        "                         (metadata['split'] == 'train')]\n",
        "    df_radio_test = metadata[(metadata['class'] == 'UsingRadio') & \\\n",
        "                         (metadata['split'] == 'test')]\n",
        "\n",
        "    # Get number of items in class with lowest number of images.\n",
        "    num_samples_train = min(df_coffee_train.shape[0], \\\n",
        "                            df_mirror_train.shape[0], \\\n",
        "                            df_attentive_train.shape[0], \\\n",
        "                            df_radio_train.shape[0])\n",
        "    num_samples_test = min(df_coffee_test.shape[0], \\\n",
        "                            df_mirror_test.shape[0], \\\n",
        "                            df_attentive_test.shape[0], \\\n",
        "                            df_radio_test.shape[0])\n",
        "\n",
        "    # Resample each of the classes and concatenate the images.\n",
        "    metadata_train = pd.concat([df_coffee_train.sample(num_samples_train), \\\n",
        "                          df_mirror_train.sample(num_samples_train), \\\n",
        "                          df_attentive_train.sample(num_samples_train), \\\n",
        "                          df_radio_train.sample(num_samples_train) ])\n",
        "    metadata_test = pd.concat([df_coffee_test.sample(num_samples_test), \\\n",
        "                          df_mirror_test.sample(num_samples_test), \\\n",
        "                          df_attentive_test.sample(num_samples_test), \\\n",
        "                          df_radio_test.sample(num_samples_test) ])\n",
        "\n",
        "    metadata = pd.concat( [metadata_train, metadata_test] )\n",
        "\n",
        "    sub_df = metadata[metadata['split'].isin([split_name])]\n",
        "    index  = sub_df['index'].values\n",
        "    labels = sub_df['class'].values\n",
        "    data = all_data[index,:]\n",
        "    if flatten:\n",
        "      data = data.reshape([-1, np.product(image_shape)])\n",
        "    return data, labels\n",
        "\n",
        "  def get_train_data(flatten, all_data, metadata, image_shape):\n",
        "    return get_data_split('train', flatten, all_data, metadata, image_shape)\n",
        "\n",
        "  def get_test_data(flatten, all_data, metadata, image_shape):\n",
        "    return get_data_split('test', flatten, all_data, metadata, image_shape)\n",
        "\n",
        "  def get_field_data(flatten, all_data, metadata, image_shape):\n",
        "    return get_data_split('field', flatten, all_data, metadata, image_shape)\n",
        "\n",
        "class helpers:\n",
        "  #### PLOTTING\n",
        "  def plot_image(data, num_ims, figsize=(8,6), labels = [], index = None, image_shape = [64,64,3]):\n",
        "    '''\n",
        "    if data is a single image, display that image\n",
        "\n",
        "    if data is a 4d stack of images, display that image\n",
        "    '''\n",
        "    print(data.shape)\n",
        "    num_dims   = len(data.shape)\n",
        "    num_labels = len(labels)\n",
        "\n",
        "    # reshape data if necessary\n",
        "    if num_dims == 1:\n",
        "      data = data.reshape(target_shape)\n",
        "    if num_dims == 2:\n",
        "      data = data.reshape(-1,image_shape[0],image_shape[1],image_shape[2])\n",
        "    num_dims   = len(data.shape)\n",
        "\n",
        "    # check if single or multiple images\n",
        "    if num_dims == 3:\n",
        "      if num_labels > 1:\n",
        "        print('Multiple labels does not make sense for single image.')\n",
        "        return\n",
        "\n",
        "      label = labels\n",
        "      if num_labels == 0:\n",
        "        label = ''\n",
        "      image = data\n",
        "\n",
        "    if num_dims == 4:\n",
        "      image = data[index, :]\n",
        "      label = labels[index]\n",
        "\n",
        "    # plot image of interest\n",
        "\n",
        "    nrows=int(np.sqrt(num_ims))\n",
        "    ncols=int(np.ceil(num_ims/nrows))\n",
        "    print(nrows,ncols)\n",
        "    count=0\n",
        "    if nrows==1 and ncols==1:\n",
        "      print('Label: %s'%label)\n",
        "      plt.imshow(image)\n",
        "      plt.show()\n",
        "    else:\n",
        "      print(labels)\n",
        "      fig = plt.figure(figsize=figsize)\n",
        "      for i in range(nrows):\n",
        "        for j in range(ncols):\n",
        "          if count<num_ims:\n",
        "            fig.add_subplot(nrows,ncols,count+1)\n",
        "            plt.imshow(image[count])\n",
        "            count+=1\n",
        "      fig.set_size_inches(18.5, 10.5)\n",
        "      plt.show()\n",
        "\n",
        "  # Checking correct model specs\n",
        "  def model_to_string(model):\n",
        "    import re\n",
        "    stringlist = []\n",
        "    model.summary(print_fn=lambda x: stringlist.append(x))\n",
        "\n",
        "    # Process each line in the summary\n",
        "    standardized_stringlist = []\n",
        "    for line in stringlist:\n",
        "        # Standardize the Dense layer representation\n",
        "        line = re.sub(r'Dense\\((\\d+),', r'Dense(units=\\1,', line)\n",
        "        standardized_stringlist.append(line)\n",
        "\n",
        "    # Combine the processed lines into a single string\n",
        "    sms = \"\\n\".join(standardized_stringlist)\n",
        "\n",
        "    # Remove layer numbering that keras adds\n",
        "    sms = re.sub('_\\d\\d\\d','', sms)\n",
        "    sms = re.sub('_\\d\\d','', sms)\n",
        "    sms = re.sub('_\\d','', sms)\n",
        "    sms = sms.replace(\" \", \"\")\n",
        "\n",
        "    return sms\n",
        "\n",
        "  # plotting model performance\n",
        "  def plot_acc(history, ax = None, xlabel = 'Epoch #'):\n",
        "    history = history.history\n",
        "    history.update({'epoch':list(range(len(history['val_accuracy'])))})\n",
        "    history = pd.DataFrame.from_dict(history)\n",
        "\n",
        "    best_epoch = history.sort_values(by = 'val_accuracy', ascending = False).iloc[0]['epoch']\n",
        "\n",
        "    if not ax:\n",
        "      f, ax = plt.subplots(1,1)\n",
        "    sns.lineplot(x = 'epoch', y = 'val_accuracy', data = history, label = 'Validation', ax = ax)\n",
        "    sns.lineplot(x = 'epoch', y = 'accuracy', data = history, label = 'Training', ax = ax)\n",
        "    ax.axhline(0.25, linestyle = '--',color='red', label = 'Chance')\n",
        "    ax.axvline(x = best_epoch, linestyle = '--', color = 'green', label = 'Best Epoch')\n",
        "    ax.legend(loc = 7)\n",
        "    ax.set_ylim([0.01, 1])\n",
        "\n",
        "    ax.set_xlabel(xlabel)\n",
        "    ax.set_ylabel('Accuracy (Fraction)')\n",
        "\n",
        "    plt.show()\n",
        "\n",
        "class models:\n",
        "  def TransferClassifier(name, nn_params):\n",
        "    expert_dict = {'VGG16': VGG16,\n",
        "                   'VGG19': VGG19,\n",
        "                   'ResNet50':ResNet50,\n",
        "                   'DenseNet121':DenseNet121}\n",
        "\n",
        "    expert_conv = expert_dict[name](weights = 'imagenet',\n",
        "                                              include_top = False,\n",
        "                                              input_shape = nn_params['input_shape'])\n",
        "\n",
        "    expert_model = Sequential()\n",
        "    expert_model.add(expert_conv)\n",
        "    expert_model.add(GlobalAveragePooling2D())\n",
        "\n",
        "    expert_model.add(Dense(1024, activation = 'relu'))\n",
        "    expert_model.add(Dropout(0.3))\n",
        "\n",
        "    expert_model.add(Dense(512, activation = 'relu'))\n",
        "    expert_model.add(Dropout(0.3))\n",
        "\n",
        "    expert_model.add(Dense(nn_params['output_neurons'],\n",
        "                           activation = nn_params['output_activation']))\n",
        "\n",
        "    expert_model.compile(loss = nn_params['loss'],\n",
        "                  optimizer = optimizers.SGD(learning_rate=1e-10, momentum=0.95),\n",
        "                  metrics=['accuracy'])\n",
        "\n",
        "    return expert_model\n",
        "\n",
        "### defining project variables\n",
        "# file variables\n",
        "# image_data_url       = 'https://drive.google.com/uc?id=1qmTuUyn0525-612yS-wkp8gHB72Wv_XP'\n",
        "# metadata_url         = 'https://drive.google.com/uc?id=1OfKnq3uIT29sXjWSZqOOpceig8Ul24OW'\n",
        "image_data_path      = './image_data.npy'\n",
        "metadata_path        = './metadata.csv'\n",
        "image_shape          = (64, 64, 3)\n",
        "\n",
        "# neural net parameters\n",
        "nn_params = {}\n",
        "nn_params['input_shape']       = image_shape\n",
        "nn_params['output_neurons']    = 4\n",
        "nn_params['loss']              = 'categorical_crossentropy'\n",
        "nn_params['output_activation'] = 'softmax'\n",
        "\n",
        "### Download data\n",
        "!wget -q --show-progress 'https://storage.googleapis.com/inspirit-ai-data-bucket-1/Data/AI%20Scholars/Sessions%206%20-%2010%20(Projects)/Project%20-%20Driver%20Distraction%20Detection/metadata.csv'\n",
        "!wget -q --show-progress 'https://storage.googleapis.com/inspirit-ai-data-bucket-1/Data/AI%20Scholars/Sessions%206%20-%2010%20(Projects)/Project%20-%20Driver%20Distraction%20Detection/image_data.npy'\n",
        "\n",
        "### pre-loading all data of interest\n",
        "_all_data = np.load('image_data.npy')\n",
        "_metadata = pkg.get_metadata(metadata_path, ['train','test','field'])\n",
        "\n",
        "### preparing definitions\n",
        "# downloading and loading data\n",
        "get_data_split = pkg.get_data_split\n",
        "get_metadata    = lambda :                 pkg.get_metadata(metadata_path, ['train','test'])\n",
        "get_train_data  = lambda flatten = False : pkg.get_train_data(flatten = flatten, all_data = _all_data, metadata = _metadata, image_shape = image_shape)\n",
        "get_test_data   = lambda flatten = False : pkg.get_test_data(flatten = flatten, all_data = _all_data, metadata = _metadata, image_shape = image_shape)\n",
        "get_field_data  = lambda flatten = False : pkg.get_field_data(flatten = flatten, all_data = _all_data, metadata = _metadata, image_shape = image_shape)\n",
        "\n",
        "# plotting\n",
        "plot_image = lambda data, num_ims,figsize=(8,6), labels = [], index = None: helpers.plot_image(data = data, num_ims=num_ims, figsize=figsize,labels = labels, index = index, image_shape = image_shape);\n",
        "plot_acc       = lambda history: helpers.plot_acc(history)\n",
        "\n",
        "# checking student model specs\n",
        "model_to_string        = lambda model: helpers.model_to_string(model)\n",
        "\n",
        "# models with input parameters\n",
        "TransferClassifier  = lambda name: models.TransferClassifier(name = name, nn_params = nn_params);\n",
        "\n",
        "monitor = ModelCheckpoint('./model.h5', monitor='val_loss', verbose=0, save_best_only=True, save_weights_only=False, mode='auto', save_freq='epoch')"
      ],
      "execution_count": null,
      "outputs": [
        {
          "output_type": "stream",
          "name": "stdout",
          "text": [
            "metadata.csv        100%[===================>] 200.33K  --.-KB/s    in 0.006s  \n",
            "image_data.npy      100%[===================>] 423.61M  96.1MB/s    in 5.2s    \n"
          ]
        }
      ]
    },
    {
      "cell_type": "markdown",
      "metadata": {
        "id": "QFfMH3dYX_GM"
      },
      "source": [
        "# Milestone 1. Understanding and building Neural Networks"
      ]
    },
    {
      "cell_type": "markdown",
      "metadata": {
        "id": "SYqvCKWpKfRM"
      },
      "source": [
        "### What are neural networks?"
      ]
    },
    {
      "cell_type": "markdown",
      "metadata": {
        "id": "qA1Rc_u3KoJT"
      },
      "source": [
        "Just as we went over last week, neural networks look something like this:\n",
        "![A 2 layer neural network](https://cdn-images-1.medium.com/max/1600/1*DW0Ccmj1hZ0OvSXi7Kz5MQ.jpeg)\n"
      ]
    },
    {
      "cell_type": "markdown",
      "metadata": {
        "id": "3Q9S6SDcM8N9"
      },
      "source": [
        "Each orange and blue node is a neuron. The network itself is composed of a bunch of neurons that talk to each other and eventually give us a prediction.\n",
        "\n",
        "**In terms of this problem, what do each of the 4 blue neurons correspond to?**"
      ]
    },
    {
      "cell_type": "markdown",
      "metadata": {
        "id": "0dik5yhBOERG"
      },
      "source": [
        "## Activity 1. Building networks"
      ]
    },
    {
      "cell_type": "markdown",
      "metadata": {
        "id": "E--8mjToZYBp"
      },
      "source": [
        "To build neural networks in Python, we use the packages known as `tensorflow` and `keras`. Let's learn how to build and use these networks!"
      ]
    },
    {
      "cell_type": "markdown",
      "metadata": {
        "id": "G8PrEOTbhgNN"
      },
      "source": [
        "Tensorflow calls the various machine learning algorithms that it uses 'models'.  These 'models' are 'learning machines.''\n",
        "\n",
        "1. We **teach** models by **training** them on **data**.\n",
        "2. We **use** models to **predict** things.\n"
      ]
    },
    {
      "cell_type": "code",
      "metadata": {
        "id": "cqFAnQCxsgRm"
      },
      "source": [
        "# grab tools from our tensorflow and keras toolboxes!\n",
        "import tensorflow as tf\n",
        "from tensorflow.keras.models import Sequential\n",
        "from tensorflow.keras.layers import Activation, Dropout, Flatten, Dense\n",
        "from tensorflow.keras import optimizers"
      ],
      "execution_count": null,
      "outputs": []
    },
    {
      "cell_type": "markdown",
      "metadata": {
        "id": "cPOqTta1sb6e"
      },
      "source": [
        "Before we train the model or use it to predict something, we have to **create** the model."
      ]
    },
    {
      "cell_type": "code",
      "metadata": {
        "id": "Yus22AQpsqMH"
      },
      "source": [
        "# create our model by specifying and compiling it\n",
        "model_1 = Sequential()\n",
        "model_1.add(Dense(4, input_shape=(3,),activation = 'relu'))\n",
        "model_1.add(Dense(1, activation = 'linear'))\n",
        "model_1.compile(loss='mean_squared_error',\n",
        "                optimizer='adam',\n",
        "                metrics=['mean_squared_error'])"
      ],
      "execution_count": null,
      "outputs": []
    },
    {
      "cell_type": "markdown",
      "metadata": {
        "id": "LG3k7_983L1s"
      },
      "source": [
        "The things you'll want to pay most attention to as we go over how to build networks are:\n",
        "1. The number of neurons\n",
        "2. The activation of the neurons\n",
        "3. The losses and metrics\n",
        "\n",
        "Everything else will work with the default settings!"
      ]
    },
    {
      "cell_type": "markdown",
      "metadata": {
        "id": "781M4IyhssuA"
      },
      "source": [
        "Let's walk though what each of these lines of code means!\n",
        "\n",
        "**1. Specify model**\n",
        "\n",
        "```\n",
        "model = Sequential()\n",
        "```\n",
        "This line of code initializes our model! We build our network where the information flows from LEFT to RIGHT through the network in ONE DIRECTION as opposed to multiple directions. Neurons on the right never pass informations to neurons on the left of it.\n",
        "\n",
        "\n",
        "**2. Add layers to the network**\n",
        "```\n",
        "model.add(Dense(4,input_shape = (3,), activation = 'sigmoid'))\n",
        "```\n",
        "In this code, we use the `add` function on our model to add a `layer` of neurons to our network.\n",
        "\n",
        "The layer is DENSE, meaning every neuron of the current layer receives input from every neuron of the previous layer, **and** outputs information to every neuron of the next layer. This layer consists of `4` neurons. With our first `add` function, we also specify the `input_shape`, which consists of the `3` neurons in the input layer.\n",
        "\n",
        "We also specify what kind of output, or `activation` the neuron will give. If you want the neuron to output a number between 0 and 1 (like a probability!) you would use `'softmax'` or `'sigmoid'`. If you want the neuron to output any number, you can use `'linear'`! You'll also often see `'relu'`, which is when a neuron will only output positive numbers.\n",
        "\n",
        "```\n",
        "model.add(Dense(1, activation = 'linear'))\n",
        "```\n",
        "This code adds ANOTHER layer to the network that has 1 neuron. This one neuron is used to predict a continuous value!\n",
        "\n",
        "**3. Turn the model on by compiling it**\n",
        "\n",
        "After having built the network, we want to train and use it, so we have to 'turn it on' and 'compile' it. To turn it on, we have to specify at the very least, a loss, an optimizer, and some way of evaluating the model (metrics). Don't worry too much about what this means! Just know that this is necessary.\n",
        "\n",
        "```\n",
        "model.compile(loss='mean_squared_error',\n",
        "optimizer = 'adam',\n",
        "metrics = ['mean_squared_error'])\n",
        "  ```"
      ]
    },
    {
      "cell_type": "markdown",
      "metadata": {
        "id": "toYjQUOVtKDT"
      },
      "source": [
        "Once we've created our network, we can use it very simply! Just like we did with sklearn, we define our input data `x`, the true predictions from that data `y`, and then train our model with `fit`.\n",
        "\n",
        "```\n",
        "model.fit(x, y)\n",
        "```\n"
      ]
    },
    {
      "cell_type": "markdown",
      "metadata": {
        "id": "-aozkfBxtWa7"
      },
      "source": [
        "To use the model, you can use it to predict something with:\n",
        "```\n",
        "y = model.predict_classes(x)\n",
        "```\n",
        "\n",
        "You can actually use the model before you even train it! It just won't perform very well."
      ]
    },
    {
      "cell_type": "markdown",
      "metadata": {
        "id": "Wlnni4nPyCA3"
      },
      "source": [
        "## Exercise (Coding): A 2-Layer Model"
      ]
    },
    {
      "cell_type": "markdown",
      "metadata": {
        "id": "xP5Z9cEMyBpM"
      },
      "source": [
        "\n",
        "We're going to build this model:\n",
        "\n",
        "![](http://cs231n.github.io/assets/nn1/neural_net.jpeg)"
      ]
    },
    {
      "cell_type": "markdown",
      "metadata": {
        "id": "jxN_eHSoyBcF"
      },
      "source": [
        "This network can be described as:\n",
        "* Input Layer: 3\n",
        "* Layer 1 (Hidden): 4 neurons that are activated by `'relu'`\n",
        "* Layer 2 (Output): 2 neurons that are activated by `'softmax'`\n",
        "\n",
        "\n",
        "We also want to compile the model with\n",
        "`loss = 'categorical_crossentropy'`"
      ]
    },
    {
      "cell_type": "code",
      "source": [
        "# Replace the None values with your group!\n",
        "model_2 = Sequential()\n",
        "model_2.add(Dense(4, input_shape = (3,), activation = \"relu\")) #input shape = input layer.\n",
        "model_2.add(Dense(2, activation = \"softmax\"))\n",
        "\n",
        "model_2.compile(loss='categorical_crossentropy',\n",
        "                optimizer = 'adam',\n",
        "                metrics = ['accuracy'])\n"
      ],
      "metadata": {
        "id": "uhKNoS95BmDV"
      },
      "execution_count": null,
      "outputs": []
    },
    {
      "cell_type": "code",
      "metadata": {
        "id": "IH2UGOK4vuZ4",
        "cellView": "form",
        "colab": {
          "base_uri": "https://localhost:8080/"
        },
        "outputId": "c6dcc32f-4833-4bb7-efc8-f075daf98f20"
      },
      "source": [
        "#@title Run this to test if your model is right!\n",
        "model_2_answer = Sequential()\n",
        "model_2_answer.add(Dense(4, input_shape = (3,), activation = 'relu'))\n",
        "model_2_answer.add(Dense(2, activation = 'softmax'))\n",
        "model_2_answer.compile(loss='categorical_crossentropy',\n",
        "                       optimizer = 'adam',\n",
        "                       metrics = ['accuracy'])\n",
        "\n",
        "if model_to_string(model_2) == model_to_string(model_2_answer):\n",
        "  print('Good job! Your model worked')\n",
        "else:\n",
        "  print('Please check your code again!')"
      ],
      "execution_count": null,
      "outputs": [
        {
          "output_type": "stream",
          "name": "stdout",
          "text": [
            "Good job! Your model worked\n"
          ]
        }
      ]
    },
    {
      "cell_type": "markdown",
      "metadata": {
        "id": "tyLV1oHjT62K"
      },
      "source": [
        "# Milestone 2. Applying Neural Networks to Detecting Distracted Drivers"
      ]
    },
    {
      "cell_type": "markdown",
      "metadata": {
        "id": "hBp4yqqoJF65"
      },
      "source": [
        "## Instructor-Led Discussion: Model Architecture"
      ]
    },
    {
      "cell_type": "markdown",
      "metadata": {
        "id": "PD3Z0QamJF68"
      },
      "source": [
        "\n",
        "In our problem, we are given `images` of shape `(64,64,3)`, each assigned to one of 4 labels: `Attentive`, `DrinkingCoffee`, `UsingRadio`, or `UsingMirror`. We want to identify the key things that we need to design our network.\n",
        "\n",
        "In your group, discuss:\n",
        "\n",
        "* What are our inputs?\n",
        "* What is/are our outputs?\n",
        "\n",
        "How could this look in a neural network diagram?\n",
        "\n",
        "**Let's discuss as a class!!**"
      ]
    },
    {
      "cell_type": "markdown",
      "metadata": {
        "id": "K-7tm6ZlJF7G"
      },
      "source": [
        "## Activity 2b. Building our custom neural network"
      ]
    },
    {
      "cell_type": "markdown",
      "metadata": {
        "id": "e8pozxKuJF7I"
      },
      "source": [
        "### Key Points"
      ]
    },
    {
      "cell_type": "markdown",
      "metadata": {
        "id": "UN4Pyw4qJF7N"
      },
      "source": [
        "We will build a simple 2-layer network, also known as a perceptron, for our first model!\n",
        "\n",
        "\n",
        "For our model, we have as our layers:\n",
        "* Input Layer:  However many inputs there are!\n",
        "* Layer 1 (Hidden): 128 neurons that are activated by `'relu'`\n",
        "* Layer 2 (Output): 4 neurons (1 per possible predicted class) that should have an appropriate activation.\n",
        "* We will compile with the `optimizers.SGD(learning_rate=1e-4, momentum=0.95)` optimizer\n",
        "\n",
        "As a hint for the output activation and the compilation loss, we know that:\n",
        "* **Binary classification** problems require an output activation of `'sigmoid'` and a loss of `'binary_cross_entropy'`\n",
        "* **Multi-class classification** problems require an output activation of `'softmax'` and a loss of `'categorical_crossentropy'`\n",
        "* **Linear regression** problems require an output activation of `'linear'` and a loss of `'mean_squared_error'`\n",
        "\n",
        "\n"
      ]
    },
    {
      "cell_type": "markdown",
      "metadata": {
        "id": "LzFTOYMiJF7Q"
      },
      "source": [
        "###Build Your Model\n",
        "Remember that a multi-layer perceptron requires flattened input, but our images have shape `(64, 64, 3)`.\n",
        "We have added the `Flatten()` layer for you, which flattens our input as desired -- your job is to add the rest of the layers and compile your model!"
      ]
    },
    {
      "cell_type": "code",
      "metadata": {
        "id": "ZJUSGm_oJF7h"
      },
      "source": [
        "model_3 = Sequential()\n",
        "model_3.add(Flatten(input_shape = (64, 64, 3)))\n",
        "model_3.add(Dense(128, input_shape = (3,), activation = \"relu\")) #input shape = input layer.\n",
        "model_3.add(Dense(4, activation = \"softmax\"))\n",
        "\n",
        "model_3.compile(loss='categorical_crossentropy',\n",
        "                optimizer = 'adam',\n",
        "                metrics = ['accuracy'])"
      ],
      "execution_count": null,
      "outputs": []
    },
    {
      "cell_type": "code",
      "metadata": {
        "id": "9i-xfhnaJF7q",
        "colab": {
          "base_uri": "https://localhost:8080/"
        },
        "outputId": "ca838576-0afb-4aaa-b942-776405fc727d"
      },
      "source": [
        "#@title Run this to test if your model is right! { display-mode: \"form\" }\n",
        "model_3_answer = Sequential()\n",
        "model_3_answer.add(Flatten(input_shape = (64, 64, 3)))\n",
        "model_3_answer.add(Dense(units = 128, activation = 'relu'))\n",
        "model_3_answer.add(Dense(units = 4, activation = 'softmax'))\n",
        "\n",
        "model_3_answer.compile(loss='categorical_crossentropy',\n",
        "              optimizer=optimizers.SGD(learning_rate=1e-10, momentum=0.95),\n",
        "              metrics=['accuracy'])\n",
        "\n",
        "if model_to_string(model_3) == model_to_string(model_3_answer):\n",
        "  print('Good job, you specified it correctly!')\n",
        "else:\n",
        "  print('Please check your code again!')"
      ],
      "execution_count": null,
      "outputs": [
        {
          "output_type": "stream",
          "name": "stdout",
          "text": [
            "Good job, you specified it correctly!\n"
          ]
        }
      ]
    },
    {
      "cell_type": "markdown",
      "metadata": {
        "id": "nayBlbHmj4Ii"
      },
      "source": [
        "### Exercise (Coding)\n",
        "\n"
      ]
    },
    {
      "cell_type": "markdown",
      "metadata": {
        "id": "AItvQJE5NY0H"
      },
      "source": [
        "## Now let's apply data augmentation to our images.\n",
        "\n",
        "After defining our model, we often deal with the issue of a limited amount of training data in machine learning. As you might imagine, a model trained on a small set of data is likely to perform poorly because of overfitting, which means it doesn't generalize well to new, unseen data.\n",
        "\n",
        "This is where data augmentation steps in. By creating modifications of our training data, we can artificially increase its size and diversity, improving the model's performance and generalization ability.\n",
        "\n",
        "In the case of images, we can use the `ImageDataGenerator` class from Keras. This allows us to make random transformations to our images, such as rotations, translations, zooms, and flips, so that our model can learn from a wider range of data.\n",
        "\n",
        "Here's how we use it:\n",
        "\n",
        "```python\n",
        "data_augmentation = ImageDataGenerator(\n",
        "    rotation_range=10,\n",
        "    width_shift_range=0.1,\n",
        "    height_shift_range=0.1,\n",
        "    shear_range=0.2,\n",
        "    zoom_range=0.2,\n",
        "    horizontal_flip=True,\n",
        "    fill_mode='nearest'\n",
        ")\n",
        "```\n",
        "With this setup:\n",
        "- `rotation_range=10`: our image will be randomly rotated between 0 and 10 degrees.\n",
        "- `width_shift_range=0.1` and `height_shift_range=0.1`: our image will be moved up to 10% horizontally and vertically.\n",
        "- `shear_range=0.2`: a shear (stretching) transformation will be randomly applied up to 20%.\n",
        "- `zoom_range=0.2`: our image will be randomly zoomed up to 20%.\n",
        "- `horizontal_flip=True`: our image can be flipped horizontally.\n",
        "- `fill_mode='nearest'`: any new pixels created by these transformations will be filled with the 'nearest' color in the original image.\n",
        "\n",
        "**It's time to use the augmented data to train our model!**\n",
        "\n",
        "## Let's now train our perceptron on images from the train data!\n",
        "\n",
        "Unlike the models that we used in sklearn, our neural networks are pretty finnicky. Their performance depends a lot on *how much* they train. As we'll see, they usually get better with more training BUT actually can get worse with too much training. With too much training, our model can memorize the training data (overfitting), and so doesn't actually think (generalize) when it is tested.\n",
        "\n",
        "The extra options in our `fit()` function pertain to how the neural networks train. Don't worry too much about the extra options, what really matters for us is that the right data is specified.\n",
        "\n",
        "To use `fit`, we use the following code:\n",
        "```\n",
        "X_train, y_train = get_train_data()\n",
        "history = our_model.fit(data_augmentation.flow(X_train, y_train, batch_size=32), epochs = 10, validation_data = (X_test, y_test), shuffle = True, callbacks = [monitor])\n",
        "```\n",
        "What are all these options?\n",
        "* `epochs`: how many times the model trains on the entire data set\n",
        "* `shuffle`: mixes the training dataset so the model pays better attention to the data and learns better while training\n",
        "* `validation_data`: we request that our model tests itself on the `test_data` after every epoch. Since our model is finnicky, instead of testing our model at the end of the training, we test it throughout.\n",
        "\n",
        " `history` gives us a data structure which allows us to plot the training and validation accuracy over time.\n",
        "\n",
        "We have one more option too:\n",
        "* `callbacks`: With a custom command, we tell our model to save the best version of itself to a model file called `model.h5`.\n",
        "\n",
        "\n",
        "**Specifically, load in the training and testing data and then train your MLP model.**\n",
        "\n",
        "_Note: Remember you already created your model above (model_3)._\n"
      ]
    },
    {
      "cell_type": "code",
      "metadata": {
        "id": "-tjgTdXv6Kh7",
        "colab": {
          "base_uri": "https://localhost:8080/"
        },
        "outputId": "5bd1d1c8-2ee8-4adb-fd69-1b57873be1c5"
      },
      "source": [
        "from tensorflow.keras.callbacks import ModelCheckpoint\n",
        "\n",
        "# Define our monitor. Don't worry about the parameters here except for './model.h5',\n",
        "# which is the file that our model saves to.\n",
        "monitor = ModelCheckpoint('./model.h5', monitor='val_loss', verbose=0,\n",
        "                          save_best_only=True, save_weights_only=False,\n",
        "                          mode='auto', save_freq='epoch')\n",
        "\n",
        "# Create an instance of ImageDataGenerator for data augmentation\n",
        "data_augmentation = ImageDataGenerator(\n",
        "    rotation_range=10,  # Rotate images randomly up to 10 degrees\n",
        "    width_shift_range=0.1,  # Shift images horizontally by a fraction of the width\n",
        "    height_shift_range=0.1,  # Shift images vertically by a fraction of the height\n",
        "    shear_range=0.2,  # Apply shear transformation with a shear angle up to 20 degrees\n",
        "    zoom_range=0.2,  # Randomly zoom images by a factor up to 20%\n",
        "    horizontal_flip=True,  # Flip images horizontally\n",
        "    fill_mode='nearest'  # Fill in newly created pixels after rotation or shifting\n",
        ")\n",
        "\n",
        "### YOUR CODE HERE (get the train data and test data!)\n",
        "(X_train, y_train) = get_train_data()\n",
        "(X_test, y_test) = get_test_data()\n",
        "\n",
        "### END CODE\n",
        "\n",
        "# Reshape the data\n",
        "X_train = X_train.reshape([-1, 64, 64, 3])\n",
        "X_test = X_test.reshape([-1, 64, 64, 3])\n",
        "\n",
        "# Convert string labels into numpy arrays.\n",
        "y_train = label_to_numpy(y_train)\n",
        "y_test = label_to_numpy(y_test)\n",
        "\n",
        "### YOUR CODE HERE (fit your model!)\n",
        "history = model_3.fit(data_augmentation.flow(X_train, y_train, batch_size=32), epochs = 10, validation_data = (X_test, y_test), shuffle = True, callbacks = [monitor])\n",
        "\n",
        "### END CODE\n"
      ],
      "execution_count": null,
      "outputs": [
        {
          "output_type": "stream",
          "name": "stdout",
          "text": [
            "Epoch 1/10\n",
            "211/211 [==============================] - 23s 107ms/step - loss: 1.5660 - accuracy: 0.3599 - val_loss: 1.6760 - val_accuracy: 0.3065\n"
          ]
        },
        {
          "output_type": "stream",
          "name": "stderr",
          "text": [
            "/usr/local/lib/python3.10/dist-packages/keras/src/engine/training.py:3103: UserWarning: You are saving your model as an HDF5 file via `model.save()`. This file format is considered legacy. We recommend using instead the native Keras format, e.g. `model.save('my_model.keras')`.\n",
            "  saving_api.save_model(\n"
          ]
        },
        {
          "output_type": "stream",
          "name": "stdout",
          "text": [
            "Epoch 2/10\n",
            "211/211 [==============================] - 13s 61ms/step - loss: 1.2146 - accuracy: 0.4535 - val_loss: 1.4235 - val_accuracy: 0.3370\n",
            "Epoch 3/10\n",
            "211/211 [==============================] - 14s 67ms/step - loss: 1.1605 - accuracy: 0.4847 - val_loss: 1.3234 - val_accuracy: 0.4304\n",
            "Epoch 4/10\n",
            "211/211 [==============================] - 13s 62ms/step - loss: 1.1300 - accuracy: 0.4951 - val_loss: 1.1800 - val_accuracy: 0.4565\n",
            "Epoch 5/10\n",
            "211/211 [==============================] - 13s 62ms/step - loss: 1.1044 - accuracy: 0.5036 - val_loss: 1.2687 - val_accuracy: 0.4511\n",
            "Epoch 6/10\n",
            "211/211 [==============================] - 13s 61ms/step - loss: 1.0932 - accuracy: 0.5150 - val_loss: 1.1680 - val_accuracy: 0.4543\n",
            "Epoch 7/10\n",
            "211/211 [==============================] - 13s 61ms/step - loss: 1.0527 - accuracy: 0.5409 - val_loss: 1.2956 - val_accuracy: 0.4815\n",
            "Epoch 8/10\n",
            "211/211 [==============================] - 15s 69ms/step - loss: 1.0378 - accuracy: 0.5379 - val_loss: 1.0943 - val_accuracy: 0.5761\n",
            "Epoch 9/10\n",
            "211/211 [==============================] - 13s 61ms/step - loss: 1.0096 - accuracy: 0.5583 - val_loss: 1.0025 - val_accuracy: 0.5217\n",
            "Epoch 10/10\n",
            "211/211 [==============================] - 13s 61ms/step - loss: 1.0246 - accuracy: 0.5418 - val_loss: 1.0112 - val_accuracy: 0.5837\n"
          ]
        }
      ]
    },
    {
      "cell_type": "markdown",
      "metadata": {
        "id": "ttqZa25BVDeR"
      },
      "source": [
        "As our model trained, it told us a few things. The most important things to us are:\n",
        "* how accurate it was when training on the training set (reported as `acc`)\n",
        "* how accurate it was on the test set (reported as `val_acc`)\n"
      ]
    },
    {
      "cell_type": "markdown",
      "metadata": {
        "id": "rsOkqi035XRE"
      },
      "source": [
        "We can actually plot how how well our model did across epochs using the model's `history`!\n",
        "To do this, we call:\n",
        "```\n",
        "plot_acc(history)\n",
        "```\n",
        "\n",
        "Try `plot_acc` below!"
      ]
    },
    {
      "cell_type": "code",
      "metadata": {
        "id": "xvhyL-jJ9rKt",
        "colab": {
          "base_uri": "https://localhost:8080/",
          "height": 455
        },
        "outputId": "2313a71e-1213-4026-de1c-c1c1fda2a22d"
      },
      "source": [
        "### YOUR CODE HERE\n",
        "plot_acc(history)\n",
        "### END CODE"
      ],
      "execution_count": null,
      "outputs": [
        {
          "output_type": "display_data",
          "data": {
            "text/plain": [
              "<Figure size 640x480 with 1 Axes>"
            ],
            "image/png": "[encoded data removed]"
          },
          "metadata": {}
        }
      ]
    },
    {
      "cell_type": "markdown",
      "metadata": {
        "id": "uofnvxpz-qdI"
      },
      "source": [
        "## Instructor-Led Discussion\n",
        "\n",
        "Is this a good model? Does your model overfit? How do you know?"
      ]
    },
    {
      "cell_type": "markdown",
      "metadata": {
        "id": "g9CmrRkgT5ZS"
      },
      "source": [
        "# Milestone 3. Exploring Convolutional Neural Networks"
      ]
    },
    {
      "cell_type": "markdown",
      "metadata": {
        "id": "RehfGJJWZFeG"
      },
      "source": [
        "So, how is a convolutional neural network specified in tensorflow/keras? Let's walk through this!"
      ]
    },
    {
      "cell_type": "markdown",
      "metadata": {
        "id": "orX1T8VVqYo1"
      },
      "source": [
        "### Exercise (Coding)\n"
      ]
    },
    {
      "cell_type": "markdown",
      "metadata": {
        "id": "LMi7nEjaIeN4"
      },
      "source": [
        "Our convolutional neural network is specified via:\n",
        "\n",
        "```\n",
        "cnn = Sequential()\n",
        "cnn.add(Conv2D(64, (3, 3), input_shape=(__, __, __)))\n",
        "cnn.add(Activation('relu'))\n",
        "cnn.add(MaxPooling2D(pool_size=(2, 2)))\n",
        "cnn.add(Flatten())\n",
        "cnn.add(Dense(units = 128, activation = 'relu'))\n",
        "cnn.add(Dense(units = NUM_OUTPUTS, activation = 'softmax'))\n",
        "```\n",
        "\n",
        "And compiled with:\n",
        "\n",
        "```\n",
        "cnn.compile(loss=__, optimizer=__, metrics=__)\n",
        "```\n",
        "\n",
        "We see that we have 1 convolution layer that takes in our inputs, and then 2 dense layers. Overall this is a 3 layer network.\n",
        "\n",
        "After specifying the network, we can compile it and train it just like before! Note:\n",
        "* we want our `loss` to be `'categorical_crossentropy'`\n",
        "* our `optimizer` will be  `optimizers.SGD(learning_rate=1e-3, momentum=0.95)`\n",
        "* our `metrics` are `['accuracy']`"
      ]
    },
    {
      "cell_type": "code",
      "metadata": {
        "id": "vNDBeK9K2ZzU"
      },
      "source": [
        "### YOUR CODE HERE - build and compile your cnn (hint: see above and fill in the blanks!)\n",
        "\n",
        "# specify the network\n",
        "cnn = Sequential()\n",
        "cnn.add(Conv2D(64, (3, 3), input_shape=(64, 64, 3)))\n",
        "cnn.add(Dense(units = 128, activation = 'relu'))\n",
        "cnn.add(Activation('relu'))\n",
        "\n",
        "cnn.add(MaxPooling2D(pool_size=(2, 2)))\n",
        "cnn.add(Flatten())\n",
        "\n",
        "cnn.add(Dense(units = 4, activation = 'softmax'))\n",
        "\n",
        "\n",
        "# compile the network\n",
        "cnn.compile(loss=\"categorical_crossentropy\", optimizer=optimizers.SGD(learning_rate=1e-3, momentum=0.95), metrics=['accuracy'])\n",
        "\n",
        "### END CODE"
      ],
      "execution_count": null,
      "outputs": []
    },
    {
      "cell_type": "markdown",
      "metadata": {
        "id": "s858q9Nd4vk-"
      },
      "source": [
        "Once we've compiled the network, train it for about 50 epochs (Or less, it's up to you!).\n",
        "Remember how you did this for the MLP (`model_2`)? Also, don't forget to use data augmentation!\n",
        "\n"
      ]
    },
    {
      "cell_type": "code",
      "metadata": {
        "id": "_HTn3r594KWZ",
        "colab": {
          "base_uri": "https://localhost:8080/"
        },
        "outputId": "021e1bc3-aeb2-4e82-ed8e-f716fc742e01"
      },
      "source": [
        "### YOUR CODE HERE\n",
        "from tensorflow.keras.callbacks import ModelCheckpoint\n",
        "\n",
        "# Define our monitor. Don't worry about the parameters here except for './model.h5',\n",
        "# which is the file that our model saves to.\n",
        "monitor = ModelCheckpoint('./model.h5', monitor='val_loss', verbose=0,\n",
        "                          save_best_only=True, save_weights_only=False,\n",
        "                          mode='auto', save_freq='epoch')\n",
        "\n",
        "# Create an instance of ImageDataGenerator for data augmentation\n",
        "data_augmentation = ImageDataGenerator(\n",
        "    rotation_range=10,  # Rotate images randomly up to 10 degrees\n",
        "    width_shift_range=0.1,  # Shift images horizontally by a fraction of the width\n",
        "    height_shift_range=0.1,  # Shift images vertically by a fraction of the height\n",
        "    shear_range=0.2,  # Apply shear transformation with a shear angle up to 20 degrees\n",
        "    zoom_range=0.2,  # Randomly zoom images by a factor up to 20%\n",
        "    horizontal_flip=True,  # Flip images horizontally\n",
        "    fill_mode='nearest'  # Fill in newly created pixels after rotation or shifting\n",
        ")\n",
        "\n",
        "### YOUR CODE HERE (get the train data and test data!)\n",
        "(X_train, y_train) = get_train_data()\n",
        "(X_test, y_test) = get_test_data()\n",
        "\n",
        "### END CODE\n",
        "\n",
        "# Reshape the data\n",
        "X_train = X_train.reshape([-1, 64, 64, 3])\n",
        "X_test = X_test.reshape([-1, 64, 64, 3])\n",
        "\n",
        "# Convert string labels into numpy arrays.\n",
        "y_train = label_to_numpy(y_train)\n",
        "y_test = label_to_numpy(y_test)\n",
        "\n",
        "### YOUR CODE HERE (fit your model!)\n",
        "history = cnn.fit(data_augmentation.flow(X_train, y_train, batch_size=100), epochs = 50, validation_data = (X_test, y_test), shuffle = True, callbacks = [monitor])\n",
        "\n",
        "### END CODE\n",
        "\n",
        "\n",
        "### END CODE"
      ],
      "execution_count": null,
      "outputs": [
        {
          "metadata": {
            "tags": null
          },
          "name": "stdout",
          "output_type": "stream",
          "text": [
            "Epoch 1/50\n",
            "68/68 [==============================] - 109s 2s/step - loss: 1.3543 - accuracy: 0.3330 - val_loss: 1.3556 - val_accuracy: 0.4076\n",
            "Epoch 2/50\n"
          ]
        },
        {
          "metadata": {
            "tags": null
          },
          "name": "stderr",
          "output_type": "stream",
          "text": [
            "/usr/local/lib/python3.10/dist-packages/keras/src/engine/training.py:3103: UserWarning: You are saving your model as an HDF5 file via `model.save()`. This file format is considered legacy. We recommend using instead the native Keras format, e.g. `model.save('my_model.keras')`.\n",
            "  saving_api.save_model(\n"
          ]
        },
        {
          "output_type": "stream",
          "name": "stdout",
          "text": [
            "68/68 [==============================] - 107s 2s/step - loss: 1.2589 - accuracy: 0.4210 - val_loss: 1.3560 - val_accuracy: 0.4272\n",
            "Epoch 3/50\n",
            "68/68 [==============================] - 112s 2s/step - loss: 1.1542 - accuracy: 0.5007 - val_loss: 1.3746 - val_accuracy: 0.3663\n",
            "Epoch 4/50\n",
            "68/68 [==============================] - 106s 2s/step - loss: 1.0989 - accuracy: 0.5396 - val_loss: 1.2883 - val_accuracy: 0.5272\n",
            "Epoch 5/50\n",
            "68/68 [==============================] - 107s 2s/step - loss: 1.0362 - accuracy: 0.5738 - val_loss: 1.2139 - val_accuracy: 0.5935\n",
            "Epoch 6/50\n",
            "68/68 [==============================] - 107s 2s/step - loss: 0.9901 - accuracy: 0.6034 - val_loss: 1.3689 - val_accuracy: 0.4935\n",
            "Epoch 7/50\n",
            "68/68 [==============================] - 105s 2s/step - loss: 0.9542 - accuracy: 0.6295 - val_loss: 1.3401 - val_accuracy: 0.5924\n",
            "Epoch 8/50\n",
            "68/68 [==============================] - 116s 2s/step - loss: 0.9154 - accuracy: 0.6539 - val_loss: 1.2748 - val_accuracy: 0.5880\n",
            "Epoch 9/50\n",
            "68/68 [==============================] - 108s 2s/step - loss: 0.8792 - accuracy: 0.6666 - val_loss: 1.4425 - val_accuracy: 0.5130\n",
            "Epoch 10/50\n",
            "68/68 [==============================] - 107s 2s/step - loss: 0.8295 - accuracy: 0.6947 - val_loss: 1.4076 - val_accuracy: 0.5402\n",
            "Epoch 11/50\n",
            "68/68 [==============================] - 107s 2s/step - loss: 0.8013 - accuracy: 0.7026 - val_loss: 1.3209 - val_accuracy: 0.5641\n",
            "Epoch 12/50\n",
            "68/68 [==============================] - 106s 2s/step - loss: 0.7648 - accuracy: 0.7219 - val_loss: 1.2562 - val_accuracy: 0.6348\n",
            "Epoch 13/50\n",
            "68/68 [==============================] - 105s 2s/step - loss: 0.7587 - accuracy: 0.7225 - val_loss: 1.3724 - val_accuracy: 0.4989\n",
            "Epoch 14/50\n",
            "68/68 [==============================] - 123s 2s/step - loss: 0.7286 - accuracy: 0.7243 - val_loss: 1.3405 - val_accuracy: 0.5435\n",
            "Epoch 15/50\n",
            "68/68 [==============================] - 131s 2s/step - loss: 0.7039 - accuracy: 0.7455 - val_loss: 1.3300 - val_accuracy: 0.6315\n",
            "Epoch 16/50\n",
            "68/68 [==============================] - 113s 2s/step - loss: 0.6612 - accuracy: 0.7571 - val_loss: 1.3412 - val_accuracy: 0.5087\n",
            "Epoch 17/50\n",
            "68/68 [==============================] - 110s 2s/step - loss: 0.6749 - accuracy: 0.7552 - val_loss: 1.1998 - val_accuracy: 0.6076\n",
            "Epoch 18/50\n",
            "68/68 [==============================] - 108s 2s/step - loss: 0.6462 - accuracy: 0.7661 - val_loss: 1.2773 - val_accuracy: 0.5685\n",
            "Epoch 19/50\n",
            "68/68 [==============================] - 123s 2s/step - loss: 0.6238 - accuracy: 0.7762 - val_loss: 1.4622 - val_accuracy: 0.6293\n",
            "Epoch 20/50\n",
            "68/68 [==============================] - 116s 2s/step - loss: 0.6219 - accuracy: 0.7780 - val_loss: 1.4070 - val_accuracy: 0.5239\n",
            "Epoch 21/50\n",
            "68/68 [==============================] - 106s 2s/step - loss: 0.6067 - accuracy: 0.7823 - val_loss: 1.3968 - val_accuracy: 0.5967\n",
            "Epoch 22/50\n",
            "68/68 [==============================] - 103s 2s/step - loss: 0.6051 - accuracy: 0.7830 - val_loss: 1.4169 - val_accuracy: 0.5467\n",
            "Epoch 23/50\n",
            "68/68 [==============================] - 104s 2s/step - loss: 0.5816 - accuracy: 0.7896 - val_loss: 1.5696 - val_accuracy: 0.5359\n",
            "Epoch 24/50\n",
            "68/68 [==============================] - 107s 2s/step - loss: 0.5949 - accuracy: 0.7851 - val_loss: 1.4135 - val_accuracy: 0.5772\n",
            "Epoch 25/50\n",
            "68/68 [==============================] - 107s 2s/step - loss: 0.5636 - accuracy: 0.7958 - val_loss: 1.4301 - val_accuracy: 0.5652\n",
            "Epoch 26/50\n",
            "68/68 [==============================] - 103s 2s/step - loss: 0.5464 - accuracy: 0.8038 - val_loss: 1.5469 - val_accuracy: 0.5380\n",
            "Epoch 27/50\n",
            "68/68 [==============================] - 106s 2s/step - loss: 0.5584 - accuracy: 0.7965 - val_loss: 1.4820 - val_accuracy: 0.5413\n",
            "Epoch 28/50\n",
            "68/68 [==============================] - 106s 2s/step - loss: 0.5325 - accuracy: 0.8129 - val_loss: 1.3527 - val_accuracy: 0.5772\n",
            "Epoch 29/50\n",
            "68/68 [==============================] - 107s 2s/step - loss: 0.5472 - accuracy: 0.8023 - val_loss: 1.5775 - val_accuracy: 0.5587\n",
            "Epoch 30/50\n",
            "68/68 [==============================] - 115s 2s/step - loss: 0.5305 - accuracy: 0.8122 - val_loss: 1.4720 - val_accuracy: 0.5707\n",
            "Epoch 31/50\n",
            "68/68 [==============================] - 112s 2s/step - loss: 0.5168 - accuracy: 0.8181 - val_loss: 1.4881 - val_accuracy: 0.5859\n",
            "Epoch 32/50\n",
            "68/68 [==============================] - 107s 2s/step - loss: 0.5216 - accuracy: 0.8137 - val_loss: 1.4703 - val_accuracy: 0.5946\n",
            "Epoch 33/50\n",
            "68/68 [==============================] - 107s 2s/step - loss: 0.4899 - accuracy: 0.8247 - val_loss: 1.4603 - val_accuracy: 0.5880\n",
            "Epoch 34/50\n",
            "68/68 [==============================] - 105s 2s/step - loss: 0.4810 - accuracy: 0.8318 - val_loss: 1.5183 - val_accuracy: 0.5761\n",
            "Epoch 35/50\n",
            "68/68 [==============================] - 106s 2s/step - loss: 0.4866 - accuracy: 0.8230 - val_loss: 1.4737 - val_accuracy: 0.5739\n",
            "Epoch 36/50\n",
            "68/68 [==============================] - 106s 2s/step - loss: 0.4764 - accuracy: 0.8294 - val_loss: 1.4064 - val_accuracy: 0.5967\n",
            "Epoch 37/50\n",
            "68/68 [==============================] - 104s 2s/step - loss: 0.4863 - accuracy: 0.8264 - val_loss: 1.5858 - val_accuracy: 0.5793\n",
            "Epoch 38/50\n",
            "68/68 [==============================] - 106s 2s/step - loss: 0.4812 - accuracy: 0.8333 - val_loss: 1.4802 - val_accuracy: 0.5793\n",
            "Epoch 39/50\n",
            "68/68 [==============================] - 108s 2s/step - loss: 0.4963 - accuracy: 0.8198 - val_loss: 1.5089 - val_accuracy: 0.5739\n",
            "Epoch 40/50\n",
            "68/68 [==============================] - 106s 2s/step - loss: 0.4870 - accuracy: 0.8294 - val_loss: 1.3756 - val_accuracy: 0.6033\n",
            "Epoch 41/50\n",
            "68/68 [==============================] - 108s 2s/step - loss: 0.4625 - accuracy: 0.8354 - val_loss: 1.4622 - val_accuracy: 0.6065\n",
            "Epoch 42/50\n",
            "68/68 [==============================] - 107s 2s/step - loss: 0.4455 - accuracy: 0.8456 - val_loss: 1.5275 - val_accuracy: 0.5826\n",
            "Epoch 43/50\n",
            "68/68 [==============================] - 107s 2s/step - loss: 0.4380 - accuracy: 0.8493 - val_loss: 1.6093 - val_accuracy: 0.5652\n",
            "Epoch 44/50\n",
            "68/68 [==============================] - 108s 2s/step - loss: 0.4331 - accuracy: 0.8464 - val_loss: 1.7255 - val_accuracy: 0.5826\n",
            "Epoch 45/50\n",
            "68/68 [==============================] - 106s 2s/step - loss: 0.4488 - accuracy: 0.8404 - val_loss: 1.5422 - val_accuracy: 0.5848\n",
            "Epoch 46/50\n",
            "68/68 [==============================] - 106s 2s/step - loss: 0.4449 - accuracy: 0.8410 - val_loss: 1.6163 - val_accuracy: 0.5924\n",
            "Epoch 47/50\n",
            "68/68 [==============================] - 103s 2s/step - loss: 0.4363 - accuracy: 0.8450 - val_loss: 1.7287 - val_accuracy: 0.5489\n",
            "Epoch 48/50\n",
            "68/68 [==============================] - 106s 2s/step - loss: 0.4237 - accuracy: 0.8514 - val_loss: 1.6710 - val_accuracy: 0.5978\n",
            "Epoch 49/50\n",
            "68/68 [==============================] - 107s 2s/step - loss: 0.4188 - accuracy: 0.8513 - val_loss: 1.5740 - val_accuracy: 0.5880\n",
            "Epoch 50/50\n",
            "68/68 [==============================] - 105s 2s/step - loss: 0.4188 - accuracy: 0.8543 - val_loss: 1.6371 - val_accuracy: 0.5717\n"
          ]
        }
      ]
    },
    {
      "cell_type": "markdown",
      "metadata": {
        "id": "ic7tsMlm4whB"
      },
      "source": [
        "And see how well it did! Let's visualize the training and validation accuracy again."
      ]
    },
    {
      "cell_type": "code",
      "metadata": {
        "id": "7jZAgQbM4nmg",
        "colab": {
          "base_uri": "https://localhost:8080/",
          "height": 182
        },
        "outputId": "f676a864-737a-4d38-ed1d-f5274ec1e0ad"
      },
      "source": [
        "### YOUR CODE HERE\n",
        "plot_acc(history)\n",
        "### END CODE"
      ],
      "execution_count": null,
      "outputs": [
        {
          "output_type": "error",
          "ename": "NameError",
          "evalue": "name 'plot_acc' is not defined",
          "traceback": [
            "\u001b[0;31m---------------------------------------------------------------------------\u001b[0m",
            "\u001b[0;31mNameError\u001b[0m                                 Traceback (most recent call last)",
            "\u001b[0;32m<ipython-input-1-39086ef5e958>\u001b[0m in \u001b[0;36m<cell line: 2>\u001b[0;34m()\u001b[0m\n\u001b[1;32m      1\u001b[0m \u001b[0;31m### YOUR CODE HERE\u001b[0m\u001b[0;34m\u001b[0m\u001b[0;34m\u001b[0m\u001b[0m\n\u001b[0;32m----> 2\u001b[0;31m \u001b[0mplot_acc\u001b[0m\u001b[0;34m(\u001b[0m\u001b[0mhistory\u001b[0m\u001b[0;34m)\u001b[0m\u001b[0;34m\u001b[0m\u001b[0;34m\u001b[0m\u001b[0m\n\u001b[0m\u001b[1;32m      3\u001b[0m \u001b[0;31m### END CODE\u001b[0m\u001b[0;34m\u001b[0m\u001b[0;34m\u001b[0m\u001b[0m\n",
            "\u001b[0;31mNameError\u001b[0m: name 'plot_acc' is not defined"
          ]
        }
      ]
    },
    {
      "cell_type": "markdown",
      "metadata": {
        "id": "A7R8Mlgzl8wY"
      },
      "source": [
        "**Nice training accuracy! Does the model still overfit?**\n",
        "\n",
        "*(Optional:)* Re-initialize your CNN and train it on a smaller number of epochs. What do you observe?"
      ]
    },
    {
      "cell_type": "markdown",
      "metadata": {
        "id": "G5scKiYAYE8g"
      },
      "source": [
        "\n",
        "# Milestone 4. Expert models: Transfer learning"
      ]
    },
    {
      "cell_type": "markdown",
      "metadata": {
        "id": "laXN17IK23GY"
      },
      "source": [
        "So far, we've used models that were built from 'scratch'. Unfortunately, our training data is small relative to the amount of data available in the real world, so just training on our dataset is going to be inherently limited.\n",
        "\n",
        "Luckily, there are **expert models**, or state-of-the-art models that have been trained by the world's top researchers! While these expert models haven't trained on our training data, they have trained extensively on larger datasets. We can input our data and reasonably expect that they will pick up our task fairly quickly.\n",
        "\n",
        "In deep learning, the idea of using a model trained on another task as a starting point for your model is known as **transfer learning**."
      ]
    },
    {
      "cell_type": "markdown",
      "metadata": {
        "id": "FybhlxdVYFbv"
      },
      "source": [
        "## Activity 4a. Transfer Learning for Distracted Driving\n"
      ]
    },
    {
      "cell_type": "markdown",
      "metadata": {
        "id": "DChmzlt3ARPy"
      },
      "source": [
        "### Instructor-Led Discussion"
      ]
    },
    {
      "cell_type": "markdown",
      "metadata": {
        "id": "lFtHOYI2AdSs"
      },
      "source": [
        "For our transfer learning, we're going to use expert models built upon the famous 'ImageNet' classification problem.\n",
        "\n",
        "In ImageNet, participants were challenged to build machine learning models that could distinguish 14 million images' categories, where there were > 20,000 categories available.\n",
        "\n",
        "Below, we see examples of 3 different categories.\n",
        "\n",
        "![](https://storage.googleapis.com/inspirit-ai-data-bucket-1/Data/AI%20Scholars/Sessions%206%20-%2010%20(Projects)/ImageNet.jpg)\n",
        "\n"
      ]
    },
    {
      "cell_type": "markdown",
      "metadata": {
        "id": "J-E_AiG-CFj0"
      },
      "source": [
        "One of the experts we can use is VGG16. VGG16 is a specific convolutional neural network that was allowed to study the 14 million images 74 times. *(Read more about VGG16 [here!](https://neurohive.io/en/popular-networks/vgg16/))*\n",
        "\n",
        "After training, VGG16 was able to guess something close to the real label (top-5 accuracy) better than a human can."
      ]
    },
    {
      "cell_type": "markdown",
      "metadata": {
        "id": "IvkajtdHAbzL"
      },
      "source": [
        "![](https://cdn-images-1.medium.com/max/1600/0*V1muWIDnPVwZUuEv.png)"
      ]
    },
    {
      "cell_type": "markdown",
      "metadata": {
        "id": "Vwj8o5X3D325"
      },
      "source": [
        "We're going to take an expert model like VGG16 and let it train on OUR images. Hopefully, its experience training on those 14 million images will help it understand distracted driving!"
      ]
    },
    {
      "cell_type": "markdown",
      "metadata": {
        "id": "g-357WWC7qJJ"
      },
      "source": [
        "### Exercise (Coding) | Within a student group"
      ]
    },
    {
      "cell_type": "markdown",
      "metadata": {
        "id": "uz_mVsECHvro"
      },
      "source": [
        "Let's tap an expert model to help us out with our distracted driving prediction!\n",
        "\n",
        "We provide a wrapper that lets you 'call' up and employ expert models. You can call it like...\n",
        "\n",
        "```\n",
        "transfer = TransferClassifier(name = 'VGG16')\n",
        "```\n",
        "\n",
        "The wrapper will also add a few new layers to the model that can learn specifics about **our task**.\n",
        "\n",
        "\n",
        "The experts we have on hand are:\n",
        "* `VGG16`\n",
        "* `VGG19`\n",
        "* `ResNet50`\n",
        "* `DenseNet121`\n",
        "\n"
      ]
    },
    {
      "cell_type": "markdown",
      "metadata": {
        "id": "9ye0v5CrJBvs"
      },
      "source": [
        "Afterwards, see if you can get 85% accuracy with your model! Try it with and without data augmentation and see how different it preforms."
      ]
    },
    {
      "cell_type": "code",
      "metadata": {
        "id": "0VB79BCx7tvg"
      },
      "source": [
        "# As always, we get our data first\n",
        "(X_train, y_train) = get_train_data(flatten=True)\n",
        "(X_test, y_test) = get_test_data(flatten=True)\n",
        "\n",
        "X_train = X_train.reshape([-1, 64, 64, 3])\n",
        "X_test = X_test.reshape([-1, 64, 64, 3])\n",
        "\n",
        "y_train = label_to_numpy(y_train)\n",
        "y_test = label_to_numpy(y_test)\n",
        "\n",
        "### YOUR CODE HERE\n",
        "\n",
        "\n",
        "### END CODE"
      ],
      "execution_count": null,
      "outputs": []
    },
    {
      "cell_type": "markdown",
      "metadata": {
        "id": "buizA9EUYG5_"
      },
      "source": [
        "\n",
        "## (Optional) Activity 4b. Transfer learning in tensorflow/keras"
      ]
    },
    {
      "cell_type": "markdown",
      "metadata": {
        "id": "BGcLFbq28GA6"
      },
      "source": [
        "If you want to see how to implement transfer learning in tensorflow/keras, you can try this exercise!"
      ]
    },
    {
      "cell_type": "markdown",
      "metadata": {
        "id": "B5hq6cYOYHq_"
      },
      "source": [
        "\n",
        "### Exercise (Coding) | Within a student group\n"
      ]
    },
    {
      "cell_type": "markdown",
      "metadata": {
        "id": "euLIWetzEclz"
      },
      "source": [
        "First, let's import VGG16's architecture from `tensorflow.keras`."
      ]
    },
    {
      "cell_type": "code",
      "metadata": {
        "id": "bLIe66rQJTua"
      },
      "source": [
        "from tensorflow.keras.applications.vgg16 import VGG16"
      ],
      "execution_count": null,
      "outputs": []
    },
    {
      "cell_type": "markdown",
      "metadata": {
        "id": "cMTOXiLXE0OX"
      },
      "source": [
        "Let's now load up VGG16. We only want the convolutional layers of the model - that is, the layers that are most responsible for giving the model its visual understanding. The 'Dense/Fully Connected (FC)' layers are thought to be more specific to the ImageNet challenge."
      ]
    },
    {
      "cell_type": "code",
      "metadata": {
        "id": "fvIzSJ6_FONj"
      },
      "source": [
        "# Load the VGG architecture but do not include the FC layers\n",
        "vgg_expert = VGG16(weights = 'imagenet', include_top = False, input_shape = (64, 64, 3))"
      ],
      "execution_count": null,
      "outputs": []
    },
    {
      "cell_type": "markdown",
      "metadata": {
        "id": "5XyVd6o6FsRX"
      },
      "source": [
        "Now, we're going to plug the VGG into a custom model. to do this, we do the following:"
      ]
    },
    {
      "cell_type": "code",
      "metadata": {
        "id": "EMzqTaE7F25Q"
      },
      "source": [
        "# We add the first 12 layers of VGG to our own model: vgg_model\n",
        "vgg_model = Sequential()\n",
        "vgg_model.add(vgg_expert)"
      ],
      "execution_count": null,
      "outputs": []
    },
    {
      "cell_type": "markdown",
      "metadata": {
        "id": "y5oAm86oF63h"
      },
      "source": [
        "We want to add custom layers to our model... specifically,\n",
        "* `GlobalAveragePooling2D() # helps our vgg expert`\n",
        "* `Dense(1024, activation = 'relu') # we've seen dense before!`\n",
        "* `Dropout(0.3) # we've experimented with dropout before!`\n",
        "* `Dense(512, activation = 'relu')`\n",
        "* `Dropout(0.3)`\n",
        "* `Dense(4, activation = 'softmax') # our output layer!`"
      ]
    },
    {
      "cell_type": "markdown",
      "metadata": {
        "id": "lL6rdBDsGtOe"
      },
      "source": [
        "### Instructor-Led Discussion: Why do we add these layers to the end of the network?"
      ]
    },
    {
      "cell_type": "code",
      "metadata": {
        "id": "VpDt946zGhCZ"
      },
      "source": [
        "# Then we add our own layers on top of our vgg_model\n",
        "### YOUR CODE HERE\n",
        "\n",
        "### END CODE"
      ],
      "execution_count": null,
      "outputs": []
    },
    {
      "cell_type": "markdown",
      "metadata": {
        "id": "ZJrK16jvGlMK"
      },
      "source": [
        "And finally compile it with\n",
        "* loss: `categorical_crossentropy`\n",
        "* optimizer: `optimizers.SGD(learning_rate = 1e-4, momentum = 0.95)`\n",
        "* metrics: `accuracy`\n"
      ]
    },
    {
      "cell_type": "code",
      "metadata": {
        "id": "8SDKzK8eGxIM"
      },
      "source": [
        "# Compile our model\n",
        "### YOUR CODE HERE\n",
        "\n",
        "### END CODE"
      ],
      "execution_count": null,
      "outputs": []
    },
    {
      "cell_type": "markdown",
      "metadata": {
        "id": "eydWywLiG53c"
      },
      "source": [
        "Finally, train your model on the `training data`.\n"
      ]
    },
    {
      "cell_type": "code",
      "metadata": {
        "id": "JRpKBNUwHqEH"
      },
      "source": [
        "### YOUR CODE HERE\n",
        "\n",
        "### END CODE"
      ],
      "execution_count": null,
      "outputs": []
    },
    {
      "cell_type": "markdown",
      "metadata": {
        "id": "Mkrw6963HI1W"
      },
      "source": [
        "Use `plot_acc()` to visualize how your model did!"
      ]
    },
    {
      "cell_type": "code",
      "metadata": {
        "id": "-gpwNg62GGJs"
      },
      "source": [
        "### YOUR CODE HERE\n",
        "\n",
        "### END CODE"
      ],
      "execution_count": null,
      "outputs": []
    },
    {
      "cell_type": "markdown",
      "metadata": {
        "id": "fnyfhtyotUH0"
      },
      "source": [
        "## Nice! Hopefully your transfer learning model did much better on the validation data set."
      ]
    },
    {
      "cell_type": "markdown",
      "metadata": {
        "id": "14rKID6MOo4N"
      },
      "source": [
        "![](http://static1.squarespace.com/static/56ccc8724c2f8548059fbcfe/58f6daea15d5dbcc64ef63aa/5cae2d770d92977242838baa/1557942174418/SW-DistractedDriving-Clean-1.jpg?format=1500w)"
      ]
    }
  ]
}